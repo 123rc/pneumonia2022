{
 "cells": [
  {
   "cell_type": "code",
   "execution_count": 2,
   "metadata": {
    "id": "8RGwgJP4t0aL"
   },
   "outputs": [],
   "source": [
    "#importing libraries\n",
    "import tensorflow as tf\n",
    "import pandas as pd\n",
    "import numpy as np\n",
    "import seaborn as sns\n",
    "import sklearn\n",
    "import cv2\n",
    "%matplotlib inline\n",
    "from sklearn.metrics import confusion_matrix\n",
    "import sklearn.metrics as metrics\n",
    "from keras.models import Model\n",
    "from keras.layers import Flatten,Dense\n",
    "from keras.applications.vgg16 import VGG16\n",
    "from keras.applications.vgg16 import preprocess_input\n",
    "import matplotlib.pyplot as plot\n",
    "from glob import glob\n",
    "import scipy as sc\n",
    "from scipy import misc\n",
    "from keras.models import load_model\n",
    "from keras.layers import Dense, Embedding, LSTM, GRU, Flatten, Dropout, Lambda\n",
    "from tensorflow.keras.preprocessing.image import load_img\n",
    "from keras_preprocessing import image\n",
    "import PIL\n",
    "from PIL import Image\n",
    "from keras.models import Sequential\n",
    "from tensorflow_addons.optimizers import AdamW"
   ]
  },
  {
   "cell_type": "code",
   "execution_count": 3,
   "metadata": {
    "colab": {
     "base_uri": "https://localhost:8080/",
     "height": 36
    },
    "executionInfo": {
     "elapsed": 6,
     "status": "ok",
     "timestamp": 1667394393565,
     "user": {
      "displayName": "ROHIT CHAKRABORTY",
      "userId": "12728706202089118225"
     },
     "user_tz": -330
    },
    "id": "XbytYoAiSBhb",
    "outputId": "fe60522e-997e-4766-ecb6-5acf75a71470"
   },
   "outputs": [
    {
     "data": {
      "text/plain": [
       "''"
      ]
     },
     "execution_count": 3,
     "metadata": {},
     "output_type": "execute_result"
    }
   ],
   "source": [
    "\n",
    "tf.test.gpu_device_name()"
   ]
  },
  {
   "cell_type": "markdown",
   "metadata": {},
   "source": [
    "**IMPORTING DATA**"
   ]
  },
  {
   "cell_type": "code",
   "execution_count": 4,
   "metadata": {
    "id": "xSQlzvxRwZU0"
   },
   "outputs": [],
   "source": [
    "IMAGESHAPE = [224, 224, 3] \n",
    "test_set=r\"D:\\archive\\chest_xray\\chest_xray\\test\"\n",
    "training_set=r\"D:\\archive\\chest_xray\\chest_xray\\train\""
   ]
  },
  {
   "cell_type": "code",
   "execution_count": 8,
   "metadata": {
    "colab": {
     "base_uri": "https://localhost:8080/"
    },
    "executionInfo": {
     "elapsed": 1450,
     "status": "ok",
     "timestamp": 1667394422885,
     "user": {
      "displayName": "ROHIT CHAKRABORTY",
      "userId": "12728706202089118225"
     },
     "user_tz": -330
    },
    "id": "Vez-nRLgeblP",
    "outputId": "3c04b88f-7677-4397-9b3e-dfd20bb884ac"
   },
   "outputs": [],
   "source": [
    "vgg16_model = VGG16(input_shape=IMAGESHAPE, weights='imagenet', include_top=False)"
   ]
  },
  {
   "cell_type": "code",
   "execution_count": 9,
   "metadata": {
    "id": "QyWXuqPWwV_w"
   },
   "outputs": [],
   "source": [
    "#making all layer trainable\n",
    "for each_layer in vgg16_model.layers:\n",
    "   each_layer.trainable = True"
   ]
  },
  {
   "cell_type": "code",
   "execution_count": 10,
   "metadata": {},
   "outputs": [
    {
     "name": "stdout",
     "output_type": "stream",
     "text": [
      "Model: \"vgg16\"\n",
      "_________________________________________________________________\n",
      " Layer (type)                Output Shape              Param #   \n",
      "=================================================================\n",
      " input_2 (InputLayer)        [(None, 224, 224, 3)]     0         \n",
      "                                                                 \n",
      " block1_conv1 (Conv2D)       (None, 224, 224, 64)      1792      \n",
      "                                                                 \n",
      " block1_conv2 (Conv2D)       (None, 224, 224, 64)      36928     \n",
      "                                                                 \n",
      " block1_pool (MaxPooling2D)  (None, 112, 112, 64)      0         \n",
      "                                                                 \n",
      " block2_conv1 (Conv2D)       (None, 112, 112, 128)     73856     \n",
      "                                                                 \n",
      " block2_conv2 (Conv2D)       (None, 112, 112, 128)     147584    \n",
      "                                                                 \n",
      " block2_pool (MaxPooling2D)  (None, 56, 56, 128)       0         \n",
      "                                                                 \n",
      " block3_conv1 (Conv2D)       (None, 56, 56, 256)       295168    \n",
      "                                                                 \n",
      " block3_conv2 (Conv2D)       (None, 56, 56, 256)       590080    \n",
      "                                                                 \n",
      " block3_conv3 (Conv2D)       (None, 56, 56, 256)       590080    \n",
      "                                                                 \n",
      " block3_pool (MaxPooling2D)  (None, 28, 28, 256)       0         \n",
      "                                                                 \n",
      " block4_conv1 (Conv2D)       (None, 28, 28, 512)       1180160   \n",
      "                                                                 \n",
      " block4_conv2 (Conv2D)       (None, 28, 28, 512)       2359808   \n",
      "                                                                 \n",
      " block4_conv3 (Conv2D)       (None, 28, 28, 512)       2359808   \n",
      "                                                                 \n",
      " block4_pool (MaxPooling2D)  (None, 14, 14, 512)       0         \n",
      "                                                                 \n",
      " block5_conv1 (Conv2D)       (None, 14, 14, 512)       2359808   \n",
      "                                                                 \n",
      " block5_conv2 (Conv2D)       (None, 14, 14, 512)       2359808   \n",
      "                                                                 \n",
      " block5_conv3 (Conv2D)       (None, 14, 14, 512)       2359808   \n",
      "                                                                 \n",
      " block5_pool (MaxPooling2D)  (None, 7, 7, 512)         0         \n",
      "                                                                 \n",
      "=================================================================\n",
      "Total params: 14,714,688\n",
      "Trainable params: 14,714,688\n",
      "Non-trainable params: 0\n",
      "_________________________________________________________________\n"
     ]
    }
   ],
   "source": [
    "vgg16_model.summary()"
   ]
  },
  {
   "cell_type": "code",
   "execution_count": 11,
   "metadata": {
    "id": "_yz9LT9jwzjF"
   },
   "outputs": [],
   "source": [
    "classes = glob(r\"D:\\archive\\chest_xray\\chest_xray\\train\\*\") "
   ]
  },
  {
   "cell_type": "code",
   "execution_count": 12,
   "metadata": {
    "id": "TJSfbCWa9wSm"
   },
   "outputs": [],
   "source": [
    "#making the layer in one dimension \n",
    "flatten_layer = Flatten()(vgg16_model.output)\n",
    "prediction = Dense(len(classes), activation='softmax')(flatten_layer)"
   ]
  },
  {
   "cell_type": "code",
   "execution_count": 13,
   "metadata": {
    "colab": {
     "base_uri": "https://localhost:8080/"
    },
    "executionInfo": {
     "elapsed": 23,
     "status": "ok",
     "timestamp": 1667394425616,
     "user": {
      "displayName": "ROHIT CHAKRABORTY",
      "userId": "12728706202089118225"
     },
     "user_tz": -330
    },
    "id": "DO7jpfoe9zjF",
    "outputId": "3f4ce50a-6e2f-4938-912b-ebffb441ea92"
   },
   "outputs": [
    {
     "name": "stdout",
     "output_type": "stream",
     "text": [
      "Model: \"model\"\n",
      "_________________________________________________________________\n",
      " Layer (type)                Output Shape              Param #   \n",
      "=================================================================\n",
      " input_2 (InputLayer)        [(None, 224, 224, 3)]     0         \n",
      "                                                                 \n",
      " block1_conv1 (Conv2D)       (None, 224, 224, 64)      1792      \n",
      "                                                                 \n",
      " block1_conv2 (Conv2D)       (None, 224, 224, 64)      36928     \n",
      "                                                                 \n",
      " block1_pool (MaxPooling2D)  (None, 112, 112, 64)      0         \n",
      "                                                                 \n",
      " block2_conv1 (Conv2D)       (None, 112, 112, 128)     73856     \n",
      "                                                                 \n",
      " block2_conv2 (Conv2D)       (None, 112, 112, 128)     147584    \n",
      "                                                                 \n",
      " block2_pool (MaxPooling2D)  (None, 56, 56, 128)       0         \n",
      "                                                                 \n",
      " block3_conv1 (Conv2D)       (None, 56, 56, 256)       295168    \n",
      "                                                                 \n",
      " block3_conv2 (Conv2D)       (None, 56, 56, 256)       590080    \n",
      "                                                                 \n",
      " block3_conv3 (Conv2D)       (None, 56, 56, 256)       590080    \n",
      "                                                                 \n",
      " block3_pool (MaxPooling2D)  (None, 28, 28, 256)       0         \n",
      "                                                                 \n",
      " block4_conv1 (Conv2D)       (None, 28, 28, 512)       1180160   \n",
      "                                                                 \n",
      " block4_conv2 (Conv2D)       (None, 28, 28, 512)       2359808   \n",
      "                                                                 \n",
      " block4_conv3 (Conv2D)       (None, 28, 28, 512)       2359808   \n",
      "                                                                 \n",
      " block4_pool (MaxPooling2D)  (None, 14, 14, 512)       0         \n",
      "                                                                 \n",
      " block5_conv1 (Conv2D)       (None, 14, 14, 512)       2359808   \n",
      "                                                                 \n",
      " block5_conv2 (Conv2D)       (None, 14, 14, 512)       2359808   \n",
      "                                                                 \n",
      " block5_conv3 (Conv2D)       (None, 14, 14, 512)       2359808   \n",
      "                                                                 \n",
      " block5_pool (MaxPooling2D)  (None, 7, 7, 512)         0         \n",
      "                                                                 \n",
      " flatten (Flatten)           (None, 25088)             0         \n",
      "                                                                 \n",
      " dense (Dense)               (None, 2)                 50178     \n",
      "                                                                 \n",
      "=================================================================\n",
      "Total params: 14,764,866\n",
      "Trainable params: 14,764,866\n",
      "Non-trainable params: 0\n",
      "_________________________________________________________________\n"
     ]
    }
   ],
   "source": [
    "final_model = Model(inputs=vgg16_model.input, outputs=prediction) \n",
    "final_model.summary()"
   ]
  },
  {
   "cell_type": "code",
   "execution_count": 14,
   "metadata": {
    "id": "Q0ZFrXaO-Ch3"
   },
   "outputs": [],
   "source": [
    "#compiling using adam optimizer\n",
    "final_model.compile( \n",
    "  loss='categorical_crossentropy',\n",
    "  optimizer='adam',\n",
    "  metrics=['accuracy']\n",
    ")"
   ]
  },
  {
   "cell_type": "code",
   "execution_count": 15,
   "metadata": {
    "id": "apVUwxGo-EY_"
   },
   "outputs": [],
   "source": [
    "#image preprocessing and augmentation\n",
    "from keras.preprocessing.image import ImageDataGenerator\n",
    "train_datagen = ImageDataGenerator(rescale = 1./255, \n",
    "                                   shear_range = 0.2,\n",
    "                                   zoom_range = 0.2,\n",
    "                                   horizontal_flip = True)\n",
    "testing_datagen = ImageDataGenerator(rescale =1. / 255)"
   ]
  },
  {
   "cell_type": "code",
   "execution_count": 16,
   "metadata": {
    "colab": {
     "base_uri": "https://localhost:8080/"
    },
    "executionInfo": {
     "elapsed": 23998,
     "status": "ok",
     "timestamp": 1667394449602,
     "user": {
      "displayName": "ROHIT CHAKRABORTY",
      "userId": "12728706202089118225"
     },
     "user_tz": -330
    },
    "id": "u2yroOBS-KNg",
    "outputId": "2fe7a6ec-142d-43a8-f48e-e8cede9332f8"
   },
   "outputs": [
    {
     "name": "stdout",
     "output_type": "stream",
     "text": [
      "Found 5216 images belonging to 2 classes.\n"
     ]
    }
   ],
   "source": [
    "training_set = train_datagen.flow_from_directory(r\"D:\\archive\\chest_xray\\chest_xray\\train\", \n",
    "                                                 target_size = (224, 224),\n",
    "                                                 batch_size = 32,\n",
    "                                                 class_mode = 'categorical')"
   ]
  },
  {
   "cell_type": "code",
   "execution_count": 17,
   "metadata": {
    "colab": {
     "base_uri": "https://localhost:8080/"
    },
    "executionInfo": {
     "elapsed": 2690,
     "status": "ok",
     "timestamp": 1667394452282,
     "user": {
      "displayName": "ROHIT CHAKRABORTY",
      "userId": "12728706202089118225"
     },
     "user_tz": -330
    },
    "id": "TgQqsazKrJ7z",
    "outputId": "2948d696-612a-4aa2-c924-6a1957c34dd2"
   },
   "outputs": [
    {
     "name": "stdout",
     "output_type": "stream",
     "text": [
      "Found 624 images belonging to 2 classes.\n"
     ]
    }
   ],
   "source": [
    "test_set = testing_datagen.flow_from_directory(r\"D:\\archive\\chest_xray\\chest_xray\\test\",\n",
    "                                               target_size = (224, 224),\n",
    "                                               batch_size = 32,\n",
    "                                               class_mode = 'categorical')"
   ]
  },
  {
   "cell_type": "markdown",
   "metadata": {},
   "source": [
    "# Rnning the model for epoochs"
   ]
  },
  {
   "cell_type": "code",
   "execution_count": 18,
   "metadata": {
    "colab": {
     "base_uri": "https://localhost:8080/"
    },
    "executionInfo": {
     "elapsed": 5429814,
     "status": "ok",
     "timestamp": 1667399882093,
     "user": {
      "displayName": "ROHIT CHAKRABORTY",
      "userId": "12728706202089118225"
     },
     "user_tz": -330
    },
    "id": "BDzF3RiF-MRY",
    "outputId": "421a4697-2066-447f-efb7-c42a765d0003",
    "scrolled": false
   },
   "outputs": [
    {
     "name": "stdout",
     "output_type": "stream",
     "text": [
      "Epoch 1/40\n",
      "163/163 [==============================] - 1903s 12s/step - loss: 0.6185 - accuracy: 0.7588 - val_loss: 0.4040 - val_accuracy: 0.8462\n",
      "Epoch 2/40\n",
      "163/163 [==============================] - 1692s 10s/step - loss: 0.2702 - accuracy: 0.8817 - val_loss: 0.4606 - val_accuracy: 0.7997\n",
      "Epoch 3/40\n",
      "163/163 [==============================] - 1688s 10s/step - loss: 0.2175 - accuracy: 0.9057 - val_loss: 0.3091 - val_accuracy: 0.8846\n",
      "Epoch 4/40\n",
      "163/163 [==============================] - 1634s 10s/step - loss: 0.1917 - accuracy: 0.9245 - val_loss: 0.4952 - val_accuracy: 0.8077\n",
      "Epoch 5/40\n",
      "163/163 [==============================] - 1715s 11s/step - loss: 0.1941 - accuracy: 0.9216 - val_loss: 0.4041 - val_accuracy: 0.8253\n",
      "Epoch 6/40\n",
      "163/163 [==============================] - 1710s 10s/step - loss: 0.2218 - accuracy: 0.9168 - val_loss: 0.4612 - val_accuracy: 0.7372\n",
      "Epoch 7/40\n",
      "163/163 [==============================] - 1704s 10s/step - loss: 0.1723 - accuracy: 0.9321 - val_loss: 0.8230 - val_accuracy: 0.7804\n",
      "Epoch 8/40\n",
      "163/163 [==============================] - 1694s 10s/step - loss: 0.1689 - accuracy: 0.9352 - val_loss: 0.3053 - val_accuracy: 0.8926\n",
      "Epoch 9/40\n",
      "163/163 [==============================] - 1689s 10s/step - loss: 0.1614 - accuracy: 0.9429 - val_loss: 0.9205 - val_accuracy: 0.7869\n",
      "Epoch 10/40\n",
      "163/163 [==============================] - 1787s 11s/step - loss: 0.2874 - accuracy: 0.8836 - val_loss: 0.2959 - val_accuracy: 0.8814\n",
      "Epoch 11/40\n",
      "163/163 [==============================] - 1629s 10s/step - loss: 0.1617 - accuracy: 0.9377 - val_loss: 0.2773 - val_accuracy: 0.8798\n",
      "Epoch 12/40\n",
      "163/163 [==============================] - 1612s 10s/step - loss: 0.1818 - accuracy: 0.9300 - val_loss: 0.4446 - val_accuracy: 0.8221\n",
      "Epoch 13/40\n",
      "163/163 [==============================] - 1617s 10s/step - loss: 0.1601 - accuracy: 0.9400 - val_loss: 0.3214 - val_accuracy: 0.8862\n",
      "Epoch 14/40\n",
      "163/163 [==============================] - 1612s 10s/step - loss: 0.1323 - accuracy: 0.9498 - val_loss: 0.4436 - val_accuracy: 0.8397\n",
      "Epoch 15/40\n",
      "163/163 [==============================] - 1612s 10s/step - loss: 0.2087 - accuracy: 0.9268 - val_loss: 0.3493 - val_accuracy: 0.8686\n",
      "Epoch 16/40\n",
      "163/163 [==============================] - 1610s 10s/step - loss: 0.1376 - accuracy: 0.9511 - val_loss: 0.2638 - val_accuracy: 0.9071\n",
      "Epoch 17/40\n",
      "163/163 [==============================] - 1610s 10s/step - loss: 0.1379 - accuracy: 0.9490 - val_loss: 0.2457 - val_accuracy: 0.9119\n",
      "Epoch 18/40\n",
      "163/163 [==============================] - 1607s 10s/step - loss: 0.1487 - accuracy: 0.9448 - val_loss: 0.2638 - val_accuracy: 0.9167\n",
      "Epoch 19/40\n",
      "163/163 [==============================] - 1604s 10s/step - loss: 0.1454 - accuracy: 0.9419 - val_loss: 0.3404 - val_accuracy: 0.8830\n",
      "Epoch 20/40\n",
      "163/163 [==============================] - 1601s 10s/step - loss: 0.1199 - accuracy: 0.9557 - val_loss: 0.3180 - val_accuracy: 0.8990\n",
      "Epoch 21/40\n",
      "163/163 [==============================] - 1603s 10s/step - loss: 0.1044 - accuracy: 0.9571 - val_loss: 0.4511 - val_accuracy: 0.8894\n",
      "Epoch 22/40\n",
      "163/163 [==============================] - 1602s 10s/step - loss: 0.1193 - accuracy: 0.9523 - val_loss: 0.2550 - val_accuracy: 0.8942\n",
      "Epoch 23/40\n",
      "163/163 [==============================] - 1602s 10s/step - loss: 0.1006 - accuracy: 0.9601 - val_loss: 0.3948 - val_accuracy: 0.8702\n",
      "Epoch 24/40\n",
      "163/163 [==============================] - 1602s 10s/step - loss: 0.1106 - accuracy: 0.9605 - val_loss: 0.3668 - val_accuracy: 0.8830\n",
      "Epoch 25/40\n",
      "163/163 [==============================] - 1624s 10s/step - loss: 0.1123 - accuracy: 0.9571 - val_loss: 0.2879 - val_accuracy: 0.9087\n",
      "Epoch 26/40\n",
      "163/163 [==============================] - 1658s 10s/step - loss: 0.1031 - accuracy: 0.9617 - val_loss: 0.3571 - val_accuracy: 0.9038\n",
      "Epoch 27/40\n",
      "163/163 [==============================] - 1625s 10s/step - loss: 0.1007 - accuracy: 0.9597 - val_loss: 0.2552 - val_accuracy: 0.9135\n",
      "Epoch 28/40\n",
      "163/163 [==============================] - 1645s 10s/step - loss: 0.1011 - accuracy: 0.9620 - val_loss: 0.5455 - val_accuracy: 0.8478\n",
      "Epoch 29/40\n",
      "163/163 [==============================] - 1625s 10s/step - loss: 0.0921 - accuracy: 0.9661 - val_loss: 0.5099 - val_accuracy: 0.8510\n",
      "Epoch 30/40\n",
      "163/163 [==============================] - 1650s 10s/step - loss: 0.1076 - accuracy: 0.9584 - val_loss: 0.6873 - val_accuracy: 0.8381\n",
      "Epoch 31/40\n",
      "163/163 [==============================] - 1651s 10s/step - loss: 0.1042 - accuracy: 0.9620 - val_loss: 0.2553 - val_accuracy: 0.9038\n",
      "Epoch 32/40\n",
      "163/163 [==============================] - 1643s 10s/step - loss: 0.0869 - accuracy: 0.9676 - val_loss: 0.3468 - val_accuracy: 0.8958\n",
      "Epoch 33/40\n",
      "163/163 [==============================] - 1640s 10s/step - loss: 0.0922 - accuracy: 0.9657 - val_loss: 0.3256 - val_accuracy: 0.9087\n",
      "Epoch 34/40\n",
      "163/163 [==============================] - 1645s 10s/step - loss: 0.1000 - accuracy: 0.9664 - val_loss: 0.3150 - val_accuracy: 0.9022\n",
      "Epoch 35/40\n",
      "163/163 [==============================] - 1628s 10s/step - loss: 0.0864 - accuracy: 0.9701 - val_loss: 0.4070 - val_accuracy: 0.8878\n",
      "Epoch 36/40\n",
      "163/163 [==============================] - 1714s 11s/step - loss: 0.0906 - accuracy: 0.9649 - val_loss: 0.2686 - val_accuracy: 0.9135\n",
      "Epoch 37/40\n",
      "163/163 [==============================] - 1683s 10s/step - loss: 0.0921 - accuracy: 0.9661 - val_loss: 0.3040 - val_accuracy: 0.9119\n",
      "Epoch 38/40\n",
      "163/163 [==============================] - 1678s 10s/step - loss: 0.0869 - accuracy: 0.9686 - val_loss: 0.4378 - val_accuracy: 0.8670\n",
      "Epoch 39/40\n",
      "163/163 [==============================] - 1641s 10s/step - loss: 0.0965 - accuracy: 0.9624 - val_loss: 0.6362 - val_accuracy: 0.8221\n",
      "Epoch 40/40\n",
      "163/163 [==============================] - 1621s 10s/step - loss: 0.0810 - accuracy: 0.9703 - val_loss: 0.5285 - val_accuracy: 0.8766\n"
     ]
    }
   ],
   "source": [
    "fitted_model = final_model.fit( \n",
    "  training_set,\n",
    "  validation_data=test_set,\n",
    "  epochs=40,\n",
    "  steps_per_epoch=len(training_set),\n",
    "  validation_steps=len(test_set)    \n",
    ")\n",
    "\n",
    "\n",
    "\n"
   ]
  },
  {
   "cell_type": "code",
   "execution_count": 19,
   "metadata": {},
   "outputs": [
    {
     "data": {
      "image/png": "[encoded data removed]",
      "text/plain": [
       "<Figure size 432x288 with 1 Axes>"
      ]
     },
     "metadata": {
      "needs_background": "light"
     },
     "output_type": "display_data"
    },
    {
     "data": {
      "image/png": "[encoded data removed]",
      "text/plain": [
       "<Figure size 432x288 with 1 Axes>"
      ]
     },
     "metadata": {
      "needs_background": "light"
     },
     "output_type": "display_data"
    }
   ],
   "source": [
    "plot.plot(fitted_model.history['loss'], label='training loss') #Plotting the accuracies\n",
    "plot.plot(fitted_model.history['val_loss'], label='validation loss')\n",
    "plot.legend()\n",
    "plot.show()\n",
    "\n",
    "plot.plot(fitted_model.history['accuracy'], label='training accuracy')\n",
    "plot.plot(fitted_model.history['val_accuracy'], label='validation accuracy')\n",
    "plot.legend()\n",
    "plot.show()"
   ]
  },
  {
   "cell_type": "code",
   "execution_count": 20,
   "metadata": {
    "id": "YbfqhkYY-O3I"
   },
   "outputs": [],
   "source": [
    "final_model.save('vgg16.h5')"
   ]
  },
  {
   "cell_type": "code",
   "execution_count": 21,
   "metadata": {
    "colab": {
     "base_uri": "https://localhost:8080/"
    },
    "executionInfo": {
     "elapsed": 1247,
     "status": "ok",
     "timestamp": 1667399884235,
     "user": {
      "displayName": "ROHIT CHAKRABORTY",
      "userId": "12728706202089118225"
     },
     "user_tz": -330
    },
    "id": "J1vCMZ4A-RtA",
    "outputId": "716cb0fe-e0d1-45cc-e565-4fb4ba01369e"
   },
   "outputs": [
    {
     "name": "stdout",
     "output_type": "stream",
     "text": [
      "1/1 [==============================] - 0s 265ms/step\n",
      "Person is affected with Pneumonia.\n",
      "Predictions: [[0. 1.]]\n"
     ]
    }
   ],
   "source": [
    "model=load_model('vgg16.h5') #Loading our model\n",
    "img=image.load_img(r\"D:\\archive\\chest_xray\\chest_xray\\train\\PNEUMONIA\\person1_bacteria_1.jpeg\",target_size=(224,224))\n",
    "imagee=image.img_to_array(img) #Converting the X-Ray into pixels\n",
    "imagee=np.expand_dims(imagee, axis=0)\n",
    "img_data=preprocess_input(imagee)\n",
    "prediction=model.predict(img_data)\n",
    "if prediction[0][0]>prediction[0][1]:  #Printing the prediction of model.\n",
    "    print('Person is safe.')\n",
    "else:\n",
    "    print('Person is affected with Pneumonia.')\n",
    "print(f'Predictions: {prediction}')"
   ]
  },
  {
   "cell_type": "code",
   "execution_count": 22,
   "metadata": {},
   "outputs": [
    {
     "name": "stdout",
     "output_type": "stream",
     "text": [
      "Found 624 images belonging to 2 classes.\n",
      "20/20 [==============================] - 44s 2s/step\n"
     ]
    }
   ],
   "source": [
    "test_generator = ImageDataGenerator()\n",
    "test_data_generator = test_generator.flow_from_directory(\n",
    "   r\"D:\\archive\\chest_xray\\chest_xray\\test\", \n",
    "     target_size=(224,224),\n",
    "    batch_size=32,\n",
    "    shuffle=False)\n",
    "test_steps_per_epoch = np.math.ceil(test_data_generator.samples / test_data_generator.batch_size)\n",
    "\n",
    "predictions = model.predict(test_data_generator, steps=test_steps_per_epoch)\n",
    "# Get most likely class\n",
    "predicted_classes = np.argmax(predictions, axis=1)"
   ]
  },
  {
   "cell_type": "code",
   "execution_count": 23,
   "metadata": {
    "id": "3NyeUAIPaPPo"
   },
   "outputs": [],
   "source": [
    "true_classes = test_data_generator.classes\n",
    "class_labels = list(test_data_generator.class_indices.keys())   "
   ]
  },
  {
   "cell_type": "code",
   "execution_count": 24,
   "metadata": {},
   "outputs": [
    {
     "name": "stdout",
     "output_type": "stream",
     "text": [
      "              precision    recall  f1-score   support\n",
      "\n",
      "      NORMAL       0.94      0.13      0.23       234\n",
      "   PNEUMONIA       0.66      0.99      0.79       390\n",
      "\n",
      "    accuracy                           0.67       624\n",
      "   macro avg       0.80      0.56      0.51       624\n",
      "weighted avg       0.76      0.67      0.58       624\n",
      "\n"
     ]
    }
   ],
   "source": [
    "report = metrics.classification_report(true_classes, predicted_classes, target_names=class_labels)\n",
    "print(report)"
   ]
  },
  {
   "cell_type": "code",
   "execution_count": null,
   "metadata": {},
   "outputs": [],
   "source": []
  }
 ],
 "metadata": {
  "accelerator": "GPU",
  "colab": {
   "authorship_tag": "ABX9TyPKYJYXwcfDEpYpVAMrx2GF",
   "collapsed_sections": [],
   "mount_file_id": "1TmQXlYPI3jc02xN2MlG2fsuRGDnZhyhS",
   "provenance": []
  },
  "gpuClass": "standard",
  "kernelspec": {
   "display_name": "gpu2",
   "language": "python",
   "name": "gpu2"
  },
  "language_info": {
   "codemirror_mode": {
    "name": "ipython",
    "version": 3
   },
   "file_extension": ".py",
   "mimetype": "text/x-python",
   "name": "python",
   "nbconvert_exporter": "python",
   "pygments_lexer": "ipython3",
   "version": "3.8.15"
  }
 },
 "nbformat": 4,
 "nbformat_minor": 1
}
