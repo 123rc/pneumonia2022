{
 "cells": [
  {
   "cell_type": "code",
   "execution_count": 28,
   "metadata": {
    "id": "8RGwgJP4t0aL"
   },
   "outputs": [],
   "source": [
    "#importing libraries\n",
    "import tensorflow as tf\n",
    "import pandas as pd\n",
    "import numpy as np\n",
    "import seaborn as sns\n",
    "import sklearn\n",
    "import cv2\n",
    "%matplotlib inline\n",
    "from sklearn.metrics import confusion_matrix\n",
    "import sklearn.metrics as metrics\n",
    "from keras.models import Model\n",
    "from keras.layers import Flatten,Dense\n",
    "from keras.applications.vgg19 import VGG19\n",
    "from keras.applications.vgg19 import preprocess_input\n",
    "import matplotlib.pyplot as plot\n",
    "from glob import glob\n",
    "import scipy as sc\n",
    "from scipy import misc\n",
    "from keras.models import load_model\n",
    "from keras.layers import Dense, Embedding, LSTM, GRU, Flatten, Dropout, Lambda\n",
    "from tensorflow.keras.preprocessing.image import load_img\n",
    "from keras_preprocessing import image\n",
    "import PIL\n",
    "from PIL import Image\n",
    "from keras.models import Sequential\n",
    "from tensorflow_addons.optimizers import AdamW"
   ]
  },
  {
   "cell_type": "code",
   "execution_count": 2,
   "metadata": {
    "colab": {
     "base_uri": "https://localhost:8080/",
     "height": 36
    },
    "executionInfo": {
     "elapsed": 6,
     "status": "ok",
     "timestamp": 1667394393565,
     "user": {
      "displayName": "ROHIT CHAKRABORTY",
      "userId": "12728706202089118225"
     },
     "user_tz": -330
    },
    "id": "XbytYoAiSBhb",
    "outputId": "fe60522e-997e-4766-ecb6-5acf75a71470"
   },
   "outputs": [
    {
     "data": {
      "text/plain": [
       "''"
      ]
     },
     "execution_count": 2,
     "metadata": {},
     "output_type": "execute_result"
    }
   ],
   "source": [
    "\n",
    "tf.test.gpu_device_name()"
   ]
  },
  {
   "cell_type": "markdown",
   "metadata": {},
   "source": [
    "**IMPORTING DATA**"
   ]
  },
  {
   "cell_type": "code",
   "execution_count": 3,
   "metadata": {
    "id": "xSQlzvxRwZU0"
   },
   "outputs": [],
   "source": [
    "IMAGESHAPE = [224, 224, 3] \n",
    "test_set=r\"D:\\archive\\chest_xray\\chest_xray\\test\"\n",
    "training_set=r\"D:\\archive\\chest_xray\\chest_xray\\train\""
   ]
  },
  {
   "cell_type": "code",
   "execution_count": 4,
   "metadata": {
    "colab": {
     "base_uri": "https://localhost:8080/"
    },
    "executionInfo": {
     "elapsed": 1450,
     "status": "ok",
     "timestamp": 1667394422885,
     "user": {
      "displayName": "ROHIT CHAKRABORTY",
      "userId": "12728706202089118225"
     },
     "user_tz": -330
    },
    "id": "Vez-nRLgeblP",
    "outputId": "3c04b88f-7677-4397-9b3e-dfd20bb884ac"
   },
   "outputs": [],
   "source": [
    "vgg19_model = VGG19(input_shape=IMAGESHAPE, weights='imagenet', include_top=False)"
   ]
  },
  {
   "cell_type": "code",
   "execution_count": 5,
   "metadata": {
    "id": "QyWXuqPWwV_w"
   },
   "outputs": [],
   "source": [
    "#making all layer trainable\n",
    "for each_layer in vgg19_model.layers:\n",
    "   each_layer.trainable = True"
   ]
  },
  {
   "cell_type": "code",
   "execution_count": 6,
   "metadata": {},
   "outputs": [
    {
     "name": "stdout",
     "output_type": "stream",
     "text": [
      "Model: \"vgg19\"\n",
      "_________________________________________________________________\n",
      " Layer (type)                Output Shape              Param #   \n",
      "=================================================================\n",
      " input_1 (InputLayer)        [(None, 224, 224, 3)]     0         \n",
      "                                                                 \n",
      " block1_conv1 (Conv2D)       (None, 224, 224, 64)      1792      \n",
      "                                                                 \n",
      " block1_conv2 (Conv2D)       (None, 224, 224, 64)      36928     \n",
      "                                                                 \n",
      " block1_pool (MaxPooling2D)  (None, 112, 112, 64)      0         \n",
      "                                                                 \n",
      " block2_conv1 (Conv2D)       (None, 112, 112, 128)     73856     \n",
      "                                                                 \n",
      " block2_conv2 (Conv2D)       (None, 112, 112, 128)     147584    \n",
      "                                                                 \n",
      " block2_pool (MaxPooling2D)  (None, 56, 56, 128)       0         \n",
      "                                                                 \n",
      " block3_conv1 (Conv2D)       (None, 56, 56, 256)       295168    \n",
      "                                                                 \n",
      " block3_conv2 (Conv2D)       (None, 56, 56, 256)       590080    \n",
      "                                                                 \n",
      " block3_conv3 (Conv2D)       (None, 56, 56, 256)       590080    \n",
      "                                                                 \n",
      " block3_conv4 (Conv2D)       (None, 56, 56, 256)       590080    \n",
      "                                                                 \n",
      " block3_pool (MaxPooling2D)  (None, 28, 28, 256)       0         \n",
      "                                                                 \n",
      " block4_conv1 (Conv2D)       (None, 28, 28, 512)       1180160   \n",
      "                                                                 \n",
      " block4_conv2 (Conv2D)       (None, 28, 28, 512)       2359808   \n",
      "                                                                 \n",
      " block4_conv3 (Conv2D)       (None, 28, 28, 512)       2359808   \n",
      "                                                                 \n",
      " block4_conv4 (Conv2D)       (None, 28, 28, 512)       2359808   \n",
      "                                                                 \n",
      " block4_pool (MaxPooling2D)  (None, 14, 14, 512)       0         \n",
      "                                                                 \n",
      " block5_conv1 (Conv2D)       (None, 14, 14, 512)       2359808   \n",
      "                                                                 \n",
      " block5_conv2 (Conv2D)       (None, 14, 14, 512)       2359808   \n",
      "                                                                 \n",
      " block5_conv3 (Conv2D)       (None, 14, 14, 512)       2359808   \n",
      "                                                                 \n",
      " block5_conv4 (Conv2D)       (None, 14, 14, 512)       2359808   \n",
      "                                                                 \n",
      " block5_pool (MaxPooling2D)  (None, 7, 7, 512)         0         \n",
      "                                                                 \n",
      "=================================================================\n",
      "Total params: 20,024,384\n",
      "Trainable params: 20,024,384\n",
      "Non-trainable params: 0\n",
      "_________________________________________________________________\n"
     ]
    }
   ],
   "source": [
    "vgg19_model.summary()"
   ]
  },
  {
   "cell_type": "code",
   "execution_count": 7,
   "metadata": {
    "id": "_yz9LT9jwzjF"
   },
   "outputs": [],
   "source": [
    "classes = glob(r\"D:\\archive\\chest_xray\\chest_xray\\train\\*\") "
   ]
  },
  {
   "cell_type": "code",
   "execution_count": 8,
   "metadata": {
    "id": "TJSfbCWa9wSm"
   },
   "outputs": [],
   "source": [
    "#making the layer in one dimension \n",
    "flatten_layer = Flatten()(vgg19_model.output)\n",
    "prediction = Dense(len(classes), activation='softmax')(flatten_layer)"
   ]
  },
  {
   "cell_type": "code",
   "execution_count": 9,
   "metadata": {
    "colab": {
     "base_uri": "https://localhost:8080/"
    },
    "executionInfo": {
     "elapsed": 23,
     "status": "ok",
     "timestamp": 1667394425616,
     "user": {
      "displayName": "ROHIT CHAKRABORTY",
      "userId": "12728706202089118225"
     },
     "user_tz": -330
    },
    "id": "DO7jpfoe9zjF",
    "outputId": "3f4ce50a-6e2f-4938-912b-ebffb441ea92"
   },
   "outputs": [
    {
     "name": "stdout",
     "output_type": "stream",
     "text": [
      "Model: \"model\"\n",
      "_________________________________________________________________\n",
      " Layer (type)                Output Shape              Param #   \n",
      "=================================================================\n",
      " input_1 (InputLayer)        [(None, 224, 224, 3)]     0         \n",
      "                                                                 \n",
      " block1_conv1 (Conv2D)       (None, 224, 224, 64)      1792      \n",
      "                                                                 \n",
      " block1_conv2 (Conv2D)       (None, 224, 224, 64)      36928     \n",
      "                                                                 \n",
      " block1_pool (MaxPooling2D)  (None, 112, 112, 64)      0         \n",
      "                                                                 \n",
      " block2_conv1 (Conv2D)       (None, 112, 112, 128)     73856     \n",
      "                                                                 \n",
      " block2_conv2 (Conv2D)       (None, 112, 112, 128)     147584    \n",
      "                                                                 \n",
      " block2_pool (MaxPooling2D)  (None, 56, 56, 128)       0         \n",
      "                                                                 \n",
      " block3_conv1 (Conv2D)       (None, 56, 56, 256)       295168    \n",
      "                                                                 \n",
      " block3_conv2 (Conv2D)       (None, 56, 56, 256)       590080    \n",
      "                                                                 \n",
      " block3_conv3 (Conv2D)       (None, 56, 56, 256)       590080    \n",
      "                                                                 \n",
      " block3_conv4 (Conv2D)       (None, 56, 56, 256)       590080    \n",
      "                                                                 \n",
      " block3_pool (MaxPooling2D)  (None, 28, 28, 256)       0         \n",
      "                                                                 \n",
      " block4_conv1 (Conv2D)       (None, 28, 28, 512)       1180160   \n",
      "                                                                 \n",
      " block4_conv2 (Conv2D)       (None, 28, 28, 512)       2359808   \n",
      "                                                                 \n",
      " block4_conv3 (Conv2D)       (None, 28, 28, 512)       2359808   \n",
      "                                                                 \n",
      " block4_conv4 (Conv2D)       (None, 28, 28, 512)       2359808   \n",
      "                                                                 \n",
      " block4_pool (MaxPooling2D)  (None, 14, 14, 512)       0         \n",
      "                                                                 \n",
      " block5_conv1 (Conv2D)       (None, 14, 14, 512)       2359808   \n",
      "                                                                 \n",
      " block5_conv2 (Conv2D)       (None, 14, 14, 512)       2359808   \n",
      "                                                                 \n",
      " block5_conv3 (Conv2D)       (None, 14, 14, 512)       2359808   \n",
      "                                                                 \n",
      " block5_conv4 (Conv2D)       (None, 14, 14, 512)       2359808   \n",
      "                                                                 \n",
      " block5_pool (MaxPooling2D)  (None, 7, 7, 512)         0         \n",
      "                                                                 \n",
      " flatten (Flatten)           (None, 25088)             0         \n",
      "                                                                 \n",
      " dense (Dense)               (None, 2)                 50178     \n",
      "                                                                 \n",
      "=================================================================\n",
      "Total params: 20,074,562\n",
      "Trainable params: 20,074,562\n",
      "Non-trainable params: 0\n",
      "_________________________________________________________________\n"
     ]
    }
   ],
   "source": [
    "final_model = Model(inputs=vgg19_model.input, outputs=prediction) \n",
    "final_model.summary()"
   ]
  },
  {
   "cell_type": "code",
   "execution_count": 10,
   "metadata": {
    "id": "Q0ZFrXaO-Ch3"
   },
   "outputs": [],
   "source": [
    "#compiling\n",
    "final_model.compile( \n",
    "  loss='categorical_crossentropy',\n",
    "  optimizer='adam',\n",
    "  metrics=['accuracy']\n",
    ")"
   ]
  },
  {
   "cell_type": "code",
   "execution_count": 11,
   "metadata": {
    "id": "apVUwxGo-EY_"
   },
   "outputs": [],
   "source": [
    "#image preprocessing and augmentation\n",
    "from keras.preprocessing.image import ImageDataGenerator\n",
    "train_datagen = ImageDataGenerator(rescale = 1./255, \n",
    "                                   shear_range = 0.2,\n",
    "                                   zoom_range = 0.2,\n",
    "                                   horizontal_flip = True)\n",
    "testing_datagen = ImageDataGenerator(rescale =1. / 255)"
   ]
  },
  {
   "cell_type": "code",
   "execution_count": 12,
   "metadata": {
    "colab": {
     "base_uri": "https://localhost:8080/"
    },
    "executionInfo": {
     "elapsed": 23998,
     "status": "ok",
     "timestamp": 1667394449602,
     "user": {
      "displayName": "ROHIT CHAKRABORTY",
      "userId": "12728706202089118225"
     },
     "user_tz": -330
    },
    "id": "u2yroOBS-KNg",
    "outputId": "2fe7a6ec-142d-43a8-f48e-e8cede9332f8"
   },
   "outputs": [
    {
     "name": "stdout",
     "output_type": "stream",
     "text": [
      "Found 5216 images belonging to 2 classes.\n"
     ]
    }
   ],
   "source": [
    "training_set = train_datagen.flow_from_directory(r\"D:\\archive\\chest_xray\\chest_xray\\train\", \n",
    "                                                 target_size = (224, 224),\n",
    "                                                 batch_size = 32,\n",
    "                                                 class_mode = 'categorical')"
   ]
  },
  {
   "cell_type": "code",
   "execution_count": 13,
   "metadata": {
    "colab": {
     "base_uri": "https://localhost:8080/"
    },
    "executionInfo": {
     "elapsed": 2690,
     "status": "ok",
     "timestamp": 1667394452282,
     "user": {
      "displayName": "ROHIT CHAKRABORTY",
      "userId": "12728706202089118225"
     },
     "user_tz": -330
    },
    "id": "TgQqsazKrJ7z",
    "outputId": "2948d696-612a-4aa2-c924-6a1957c34dd2"
   },
   "outputs": [
    {
     "name": "stdout",
     "output_type": "stream",
     "text": [
      "Found 624 images belonging to 2 classes.\n"
     ]
    }
   ],
   "source": [
    "test_set = testing_datagen.flow_from_directory(r\"D:\\archive\\chest_xray\\chest_xray\\test\",\n",
    "                                               target_size = (224, 224),\n",
    "                                               batch_size = 32,\n",
    "                                               class_mode = 'categorical')"
   ]
  },
  {
   "cell_type": "markdown",
   "metadata": {},
   "source": [
    "# Rnning the model for epoochs"
   ]
  },
  {
   "cell_type": "code",
   "execution_count": 14,
   "metadata": {
    "colab": {
     "base_uri": "https://localhost:8080/"
    },
    "executionInfo": {
     "elapsed": 5429814,
     "status": "ok",
     "timestamp": 1667399882093,
     "user": {
      "displayName": "ROHIT CHAKRABORTY",
      "userId": "12728706202089118225"
     },
     "user_tz": -330
    },
    "id": "BDzF3RiF-MRY",
    "outputId": "421a4697-2066-447f-efb7-c42a765d0003",
    "scrolled": false
   },
   "outputs": [
    {
     "name": "stdout",
     "output_type": "stream",
     "text": [
      "Epoch 1/40\n",
      "163/163 [==============================] - 1989s 12s/step - loss: 2.0025 - accuracy: 0.7331 - val_loss: 0.6719 - val_accuracy: 0.6250\n",
      "Epoch 2/40\n",
      "163/163 [==============================] - 1984s 12s/step - loss: 0.5622 - accuracy: 0.7458 - val_loss: 0.5370 - val_accuracy: 0.7500\n",
      "Epoch 3/40\n",
      "163/163 [==============================] - 1980s 12s/step - loss: 0.5895 - accuracy: 0.7504 - val_loss: 0.6690 - val_accuracy: 0.6250\n",
      "Epoch 4/40\n",
      "163/163 [==============================] - 1992s 12s/step - loss: 0.3153 - accuracy: 0.8627 - val_loss: 0.6045 - val_accuracy: 0.7724\n",
      "Epoch 5/40\n",
      "163/163 [==============================] - 1978s 12s/step - loss: 0.2229 - accuracy: 0.9076 - val_loss: 0.3424 - val_accuracy: 0.8622\n",
      "Epoch 6/40\n",
      "163/163 [==============================] - 1988s 12s/step - loss: 0.2142 - accuracy: 0.9141 - val_loss: 0.3335 - val_accuracy: 0.8654\n",
      "Epoch 7/40\n",
      "163/163 [==============================] - 1991s 12s/step - loss: 0.1977 - accuracy: 0.9202 - val_loss: 0.3321 - val_accuracy: 0.8750\n",
      "Epoch 8/40\n",
      "163/163 [==============================] - 1992s 12s/step - loss: 0.1953 - accuracy: 0.9258 - val_loss: 0.3483 - val_accuracy: 0.8606\n",
      "Epoch 9/40\n",
      "163/163 [==============================] - 1981s 12s/step - loss: 0.1700 - accuracy: 0.9323 - val_loss: 0.6649 - val_accuracy: 0.7628\n",
      "Epoch 10/40\n",
      "163/163 [==============================] - 2067s 13s/step - loss: 0.1698 - accuracy: 0.9294 - val_loss: 0.4001 - val_accuracy: 0.8061\n",
      "Epoch 11/40\n",
      "163/163 [==============================] - 2094s 13s/step - loss: 0.1544 - accuracy: 0.9429 - val_loss: 0.3152 - val_accuracy: 0.8750\n",
      "Epoch 12/40\n",
      "163/163 [==============================] - 2029s 12s/step - loss: 0.1482 - accuracy: 0.9440 - val_loss: 0.5387 - val_accuracy: 0.8253\n",
      "Epoch 13/40\n",
      "163/163 [==============================] - 2007s 12s/step - loss: 0.1615 - accuracy: 0.9375 - val_loss: 0.3484 - val_accuracy: 0.8606\n",
      "Epoch 14/40\n",
      "163/163 [==============================] - 1988s 12s/step - loss: 0.1416 - accuracy: 0.9450 - val_loss: 0.7683 - val_accuracy: 0.7708\n",
      "Epoch 15/40\n",
      "163/163 [==============================] - 2038s 13s/step - loss: 0.1497 - accuracy: 0.9429 - val_loss: 0.3210 - val_accuracy: 0.8878\n",
      "Epoch 16/40\n",
      "163/163 [==============================] - 2047s 13s/step - loss: 0.1340 - accuracy: 0.9503 - val_loss: 0.3345 - val_accuracy: 0.8942\n",
      "Epoch 17/40\n",
      "163/163 [==============================] - 2075s 13s/step - loss: 0.1415 - accuracy: 0.9440 - val_loss: 0.2890 - val_accuracy: 0.9135\n",
      "Epoch 18/40\n",
      "163/163 [==============================] - 2065s 13s/step - loss: 0.1409 - accuracy: 0.9457 - val_loss: 0.5419 - val_accuracy: 0.8045\n",
      "Epoch 19/40\n",
      "163/163 [==============================] - 2017s 12s/step - loss: 0.1597 - accuracy: 0.9408 - val_loss: 0.3351 - val_accuracy: 0.8766\n",
      "Epoch 20/40\n",
      "163/163 [==============================] - 2018s 12s/step - loss: 0.1340 - accuracy: 0.9465 - val_loss: 0.4029 - val_accuracy: 0.8734\n",
      "Epoch 21/40\n",
      "163/163 [==============================] - 2034s 12s/step - loss: 0.1190 - accuracy: 0.9551 - val_loss: 0.3681 - val_accuracy: 0.8702\n",
      "Epoch 22/40\n",
      "163/163 [==============================] - 2025s 12s/step - loss: 0.1617 - accuracy: 0.9348 - val_loss: 0.2525 - val_accuracy: 0.9006\n",
      "Epoch 23/40\n",
      "163/163 [==============================] - 1985s 12s/step - loss: 0.1403 - accuracy: 0.9469 - val_loss: 0.4699 - val_accuracy: 0.8478\n",
      "Epoch 24/40\n",
      "163/163 [==============================] - 1993s 12s/step - loss: 0.1311 - accuracy: 0.9528 - val_loss: 0.2878 - val_accuracy: 0.8942\n",
      "Epoch 25/40\n",
      "163/163 [==============================] - 2034s 12s/step - loss: 0.1273 - accuracy: 0.9551 - val_loss: 0.4474 - val_accuracy: 0.8429\n",
      "Epoch 26/40\n",
      "163/163 [==============================] - 2053s 13s/step - loss: 0.1127 - accuracy: 0.9574 - val_loss: 0.4131 - val_accuracy: 0.8990\n",
      "Epoch 27/40\n",
      "163/163 [==============================] - 2036s 12s/step - loss: 0.1081 - accuracy: 0.9592 - val_loss: 0.3694 - val_accuracy: 0.8974\n",
      "Epoch 28/40\n",
      "163/163 [==============================] - 2013s 12s/step - loss: 0.1182 - accuracy: 0.9563 - val_loss: 0.5736 - val_accuracy: 0.8846\n",
      "Epoch 29/40\n",
      "163/163 [==============================] - 2032s 12s/step - loss: 0.1066 - accuracy: 0.9595 - val_loss: 0.5847 - val_accuracy: 0.9215\n",
      "Epoch 30/40\n",
      "163/163 [==============================] - 2033s 12s/step - loss: 0.1795 - accuracy: 0.9329 - val_loss: 0.3210 - val_accuracy: 0.8814\n",
      "Epoch 31/40\n",
      "163/163 [==============================] - 1998s 12s/step - loss: 0.1469 - accuracy: 0.9404 - val_loss: 0.2248 - val_accuracy: 0.9038\n",
      "Epoch 32/40\n",
      "163/163 [==============================] - 2032s 12s/step - loss: 0.1495 - accuracy: 0.9438 - val_loss: 0.3933 - val_accuracy: 0.8462\n",
      "Epoch 33/40\n",
      "163/163 [==============================] - 1999s 12s/step - loss: 0.1360 - accuracy: 0.9473 - val_loss: 0.2854 - val_accuracy: 0.9199\n",
      "Epoch 34/40\n",
      "163/163 [==============================] - 2027s 12s/step - loss: 0.1274 - accuracy: 0.9502 - val_loss: 0.2644 - val_accuracy: 0.9183\n",
      "Epoch 35/40\n",
      "163/163 [==============================] - 2072s 13s/step - loss: 0.1419 - accuracy: 0.9454 - val_loss: 0.4074 - val_accuracy: 0.7821\n",
      "Epoch 36/40\n",
      "163/163 [==============================] - 2049s 13s/step - loss: 0.1516 - accuracy: 0.9425 - val_loss: 0.4086 - val_accuracy: 0.8766\n",
      "Epoch 37/40\n",
      "163/163 [==============================] - 2052s 13s/step - loss: 0.1285 - accuracy: 0.9528 - val_loss: 0.2953 - val_accuracy: 0.8910\n",
      "Epoch 38/40\n",
      "163/163 [==============================] - 2065s 13s/step - loss: 0.1232 - accuracy: 0.9548 - val_loss: 0.2620 - val_accuracy: 0.9103\n",
      "Epoch 39/40\n",
      "163/163 [==============================] - 2064s 13s/step - loss: 0.1089 - accuracy: 0.9594 - val_loss: 0.3218 - val_accuracy: 0.8974\n",
      "Epoch 40/40\n",
      "163/163 [==============================] - 1993s 12s/step - loss: 0.1202 - accuracy: 0.9538 - val_loss: 0.2776 - val_accuracy: 0.9006\n"
     ]
    }
   ],
   "source": [
    "fitted_model = final_model.fit( \n",
    "  training_set,\n",
    "  validation_data=test_set,\n",
    "  epochs=40,\n",
    "  steps_per_epoch=len(training_set),\n",
    "  validation_steps=len(test_set)    \n",
    ")\n",
    "\n",
    "\n",
    "\n"
   ]
  },
  {
   "cell_type": "code",
   "execution_count": 15,
   "metadata": {},
   "outputs": [
    {
     "data": {
      "image/png": "[encoded data removed]",
      "text/plain": [
       "<Figure size 432x288 with 1 Axes>"
      ]
     },
     "metadata": {
      "needs_background": "light"
     },
     "output_type": "display_data"
    },
    {
     "data": {
      "image/png": "[encoded data removed]",
      "text/plain": [
       "<Figure size 432x288 with 1 Axes>"
      ]
     },
     "metadata": {
      "needs_background": "light"
     },
     "output_type": "display_data"
    }
   ],
   "source": [
    "plot.plot(fitted_model.history['loss'], label='training loss') #Plotting the accuracies\n",
    "plot.plot(fitted_model.history['val_loss'], label='validation loss')\n",
    "plot.legend()\n",
    "plot.show()\n",
    "\n",
    "plot.plot(fitted_model.history['accuracy'], label='training accuracy')\n",
    "plot.plot(fitted_model.history['val_accuracy'], label='validation accuracy')\n",
    "plot.legend()\n",
    "plot.show()"
   ]
  },
  {
   "cell_type": "code",
   "execution_count": 16,
   "metadata": {
    "id": "YbfqhkYY-O3I"
   },
   "outputs": [],
   "source": [
    "final_model.save('vgg19.h5')"
   ]
  },
  {
   "cell_type": "code",
   "execution_count": 17,
   "metadata": {
    "colab": {
     "base_uri": "https://localhost:8080/"
    },
    "executionInfo": {
     "elapsed": 1247,
     "status": "ok",
     "timestamp": 1667399884235,
     "user": {
      "displayName": "ROHIT CHAKRABORTY",
      "userId": "12728706202089118225"
     },
     "user_tz": -330
    },
    "id": "J1vCMZ4A-RtA",
    "outputId": "716cb0fe-e0d1-45cc-e565-4fb4ba01369e"
   },
   "outputs": [
    {
     "name": "stdout",
     "output_type": "stream",
     "text": [
      "1/1 [==============================] - 0s 278ms/step\n",
      "Person is affected with Pneumonia.\n",
      "Predictions: [[0. 1.]]\n"
     ]
    }
   ],
   "source": [
    "model=load_model('vgg19.h5') #Loading our model\n",
    "img=image.load_img(r\"D:\\archive\\chest_xray\\chest_xray\\train\\PNEUMONIA\\person1_bacteria_1.jpeg\",target_size=(224,224))\n",
    "imagee=image.img_to_array(img) #Converting the X-Ray into pixels\n",
    "imagee=np.expand_dims(imagee, axis=0)\n",
    "img_data=preprocess_input(imagee)\n",
    "prediction=model.predict(img_data)\n",
    "if prediction[0][0]>prediction[0][1]:  #Printing the prediction of model.\n",
    "    print('Person is safe.')\n",
    "else:\n",
    "    print('Person is affected with Pneumonia.')\n",
    "print(f'Predictions: {prediction}')"
   ]
  },
  {
   "cell_type": "code",
   "execution_count": 24,
   "metadata": {},
   "outputs": [
    {
     "name": "stdout",
     "output_type": "stream",
     "text": [
      "Found 624 images belonging to 2 classes.\n",
      "20/20 [==============================] - 55s 3s/step\n"
     ]
    }
   ],
   "source": [
    "test_generator = ImageDataGenerator()\n",
    "test_data_generator = test_generator.flow_from_directory(\n",
    "   r\"D:\\archive\\chest_xray\\chest_xray\\test\", \n",
    "     target_size=(224,224),\n",
    "    batch_size=32,\n",
    "    shuffle=False)\n",
    "test_steps_per_epoch = np.math.ceil(test_data_generator.samples / test_data_generator.batch_size)\n",
    "\n",
    "predictions = model.predict(test_data_generator, steps=test_steps_per_epoch)\n",
    "# Get most likely class\n",
    "predicted_classes = np.argmax(predictions, axis=1)"
   ]
  },
  {
   "cell_type": "code",
   "execution_count": 25,
   "metadata": {
    "id": "3NyeUAIPaPPo"
   },
   "outputs": [],
   "source": [
    "true_classes = test_data_generator.classes\n",
    "class_labels = list(test_data_generator.class_indices.keys())   "
   ]
  },
  {
   "cell_type": "code",
   "execution_count": 29,
   "metadata": {},
   "outputs": [
    {
     "name": "stdout",
     "output_type": "stream",
     "text": [
      "              precision    recall  f1-score   support\n",
      "\n",
      "      NORMAL       0.52      0.72      0.60       234\n",
      "   PNEUMONIA       0.78      0.59      0.68       390\n",
      "\n",
      "    accuracy                           0.64       624\n",
      "   macro avg       0.65      0.66      0.64       624\n",
      "weighted avg       0.68      0.64      0.65       624\n",
      "\n"
     ]
    }
   ],
   "source": [
    "report = metrics.classification_report(true_classes, predicted_classes, target_names=class_labels)\n",
    "print(report)"
   ]
  },
  {
   "cell_type": "code",
   "execution_count": null,
   "metadata": {},
   "outputs": [],
   "source": []
  }
 ],
 "metadata": {
  "accelerator": "GPU",
  "colab": {
   "authorship_tag": "ABX9TyPKYJYXwcfDEpYpVAMrx2GF",
   "collapsed_sections": [],
   "mount_file_id": "1TmQXlYPI3jc02xN2MlG2fsuRGDnZhyhS",
   "provenance": []
  },
  "gpuClass": "standard",
  "kernelspec": {
   "display_name": "gpu2",
   "language": "python",
   "name": "gpu2"
  },
  "language_info": {
   "codemirror_mode": {
    "name": "ipython",
    "version": 3
   },
   "file_extension": ".py",
   "mimetype": "text/x-python",
   "name": "python",
   "nbconvert_exporter": "python",
   "pygments_lexer": "ipython3",
   "version": "3.8.15"
  }
 },
 "nbformat": 4,
 "nbformat_minor": 1
}
