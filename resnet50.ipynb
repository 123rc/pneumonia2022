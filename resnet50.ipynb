{
 "cells": [
  {
   "cell_type": "code",
   "execution_count": 22,
   "metadata": {
    "id": "8RGwgJP4t0aL"
   },
   "outputs": [],
   "source": [
    "#importing libraries\n",
    "import tensorflow as tf\n",
    "import pandas as pd\n",
    "import numpy as np\n",
    "import seaborn as sns\n",
    "import sklearn\n",
    "import cv2\n",
    "import os\n",
    "import PIL\n",
    "%matplotlib inline\n",
    "\n",
    "\n",
    "import sklearn.metrics as metrics\n",
    "from keras.models import Model\n",
    "from keras.layers import Flatten,Dense\n",
    "#from tensorflow.keras.layers import Conv2D,MaxPooling,Flatten,Dense,Dropout\n",
    "from tensorflow.keras.applications import resnet\n",
    "from tensorflow.keras.applications.resnet50 import preprocess_input\n",
    "import matplotlib.pyplot as plot\n",
    "from glob import glob\n",
    "import scipy as sc\n",
    "from scipy import misc\n",
    "from keras.models import load_model\n",
    "from keras.layers import Dense, Embedding, LSTM, GRU, Flatten, Dropout, Lambda\n",
    "from tensorflow.keras.preprocessing.image import load_img\n",
    "from keras_preprocessing import image\n",
    "import PIL\n",
    "from PIL import Image\n",
    "from keras.models import Sequential\n",
    "from keras.optimizers import SGD"
   ]
  },
  {
   "cell_type": "code",
   "execution_count": 2,
   "metadata": {
    "colab": {
     "base_uri": "https://localhost:8080/",
     "height": 36
    },
    "executionInfo": {
     "elapsed": 6,
     "status": "ok",
     "timestamp": 1667394393565,
     "user": {
      "displayName": "ROHIT CHAKRABORTY",
      "userId": "12728706202089118225"
     },
     "user_tz": -330
    },
    "id": "XbytYoAiSBhb",
    "outputId": "fe60522e-997e-4766-ecb6-5acf75a71470"
   },
   "outputs": [
    {
     "data": {
      "text/plain": [
       "''"
      ]
     },
     "execution_count": 2,
     "metadata": {},
     "output_type": "execute_result"
    }
   ],
   "source": [
    "\n",
    "tf.test.gpu_device_name()"
   ]
  },
  {
   "cell_type": "markdown",
   "metadata": {},
   "source": [
    "**IMPORTING DATA**"
   ]
  },
  {
   "cell_type": "code",
   "execution_count": 3,
   "metadata": {
    "id": "xSQlzvxRwZU0"
   },
   "outputs": [],
   "source": [
    "IMAGESHAPE = [224, 224, 3] \n",
    "test_set=r\"D:\\archive\\chest_xray\\chest_xray\\test\"\n",
    "training_set=r\"D:\\archive\\chest_xray\\chest_xray\\train\""
   ]
  },
  {
   "cell_type": "code",
   "execution_count": 4,
   "metadata": {
    "colab": {
     "base_uri": "https://localhost:8080/"
    },
    "executionInfo": {
     "elapsed": 1450,
     "status": "ok",
     "timestamp": 1667394422885,
     "user": {
      "displayName": "ROHIT CHAKRABORTY",
      "userId": "12728706202089118225"
     },
     "user_tz": -330
    },
    "id": "Vez-nRLgeblP",
    "outputId": "3c04b88f-7677-4397-9b3e-dfd20bb884ac"
   },
   "outputs": [],
   "source": [
    "resnet50_model=Sequential()\n",
    "\n",
    "resnet50=tf.keras.applications.ResNet50(include_top=False,\n",
    "                                                        input_shape=IMAGESHAPE,pooling='avg',classes=2,weights=None)"
   ]
  },
  {
   "cell_type": "code",
   "execution_count": 5,
   "metadata": {
    "id": "QyWXuqPWwV_w"
   },
   "outputs": [],
   "source": [
    "for layer in resnet50.layers:\n",
    "  layer.trainable=True"
   ]
  },
  {
   "cell_type": "code",
   "execution_count": 6,
   "metadata": {},
   "outputs": [],
   "source": [
    "resnet50_model.add(resnet50)\n",
    "resnet50_model.add(Dense(250,activation='relu'))\n",
    "resnet50_model.add(Dropout(0.5))\n",
    "\n",
    "resnet50_model.add(Flatten())\n",
    "resnet50_model.add(Dense(512,activation='relu'))\n",
    "resnet50_model.add(Dense(2,activation='softmax'))"
   ]
  },
  {
   "cell_type": "code",
   "execution_count": 7,
   "metadata": {},
   "outputs": [
    {
     "name": "stdout",
     "output_type": "stream",
     "text": [
      "Model: \"sequential\"\n",
      "_________________________________________________________________\n",
      " Layer (type)                Output Shape              Param #   \n",
      "=================================================================\n",
      " resnet50 (Functional)       (None, 2048)              23587712  \n",
      "                                                                 \n",
      " dense (Dense)               (None, 250)               512250    \n",
      "                                                                 \n",
      " dropout (Dropout)           (None, 250)               0         \n",
      "                                                                 \n",
      " flatten (Flatten)           (None, 250)               0         \n",
      "                                                                 \n",
      " dense_1 (Dense)             (None, 512)               128512    \n",
      "                                                                 \n",
      " dense_2 (Dense)             (None, 2)                 1026      \n",
      "                                                                 \n",
      "=================================================================\n",
      "Total params: 24,229,500\n",
      "Trainable params: 24,176,380\n",
      "Non-trainable params: 53,120\n",
      "_________________________________________________________________\n"
     ]
    }
   ],
   "source": [
    "resnet50_model.summary()"
   ]
  },
  {
   "cell_type": "code",
   "execution_count": 8,
   "metadata": {
    "id": "_yz9LT9jwzjF"
   },
   "outputs": [],
   "source": [
    "classes = glob(r\"D:\\archive\\chest_xray\\chest_xray\\train\\*\") "
   ]
  },
  {
   "cell_type": "code",
   "execution_count": 9,
   "metadata": {
    "id": "TJSfbCWa9wSm"
   },
   "outputs": [],
   "source": [
    "#making the layer in one dimension \n",
    "flatten_layer = Flatten()(resnet50_model.output)\n",
    "prediction = Dense(len(classes), activation='softmax')(flatten_layer)"
   ]
  },
  {
   "cell_type": "code",
   "execution_count": 10,
   "metadata": {
    "colab": {
     "base_uri": "https://localhost:8080/"
    },
    "executionInfo": {
     "elapsed": 23,
     "status": "ok",
     "timestamp": 1667394425616,
     "user": {
      "displayName": "ROHIT CHAKRABORTY",
      "userId": "12728706202089118225"
     },
     "user_tz": -330
    },
    "id": "DO7jpfoe9zjF",
    "outputId": "3f4ce50a-6e2f-4938-912b-ebffb441ea92"
   },
   "outputs": [
    {
     "name": "stdout",
     "output_type": "stream",
     "text": [
      "Model: \"model\"\n",
      "_________________________________________________________________\n",
      " Layer (type)                Output Shape              Param #   \n",
      "=================================================================\n",
      " resnet50_input (InputLayer)  [(None, 224, 224, 3)]    0         \n",
      "                                                                 \n",
      " resnet50 (Functional)       (None, 2048)              23587712  \n",
      "                                                                 \n",
      " dense (Dense)               (None, 250)               512250    \n",
      "                                                                 \n",
      " dropout (Dropout)           (None, 250)               0         \n",
      "                                                                 \n",
      " flatten (Flatten)           (None, 250)               0         \n",
      "                                                                 \n",
      " dense_1 (Dense)             (None, 512)               128512    \n",
      "                                                                 \n",
      " dense_2 (Dense)             (None, 2)                 1026      \n",
      "                                                                 \n",
      " flatten_1 (Flatten)         (None, 2)                 0         \n",
      "                                                                 \n",
      " dense_3 (Dense)             (None, 2)                 6         \n",
      "                                                                 \n",
      "=================================================================\n",
      "Total params: 24,229,506\n",
      "Trainable params: 24,176,386\n",
      "Non-trainable params: 53,120\n",
      "_________________________________________________________________\n"
     ]
    }
   ],
   "source": [
    "final_model = Model(inputs=resnet50_model.input, outputs=prediction) \n",
    "final_model.summary()"
   ]
  },
  {
   "cell_type": "code",
   "execution_count": 11,
   "metadata": {
    "id": "Q0ZFrXaO-Ch3"
   },
   "outputs": [],
   "source": [
    "final_model.compile( \n",
    "  loss='categorical_crossentropy',\n",
    "  optimizer='SGD',\n",
    "  metrics=['accuracy']\n",
    ")"
   ]
  },
  {
   "cell_type": "code",
   "execution_count": 12,
   "metadata": {
    "id": "apVUwxGo-EY_"
   },
   "outputs": [],
   "source": [
    "#image preprocessing and augmentation\n",
    "from keras.preprocessing.image import ImageDataGenerator\n",
    "train_datagen = ImageDataGenerator(rescale = 1./255, \n",
    "                                   shear_range = 0.2,\n",
    "                                   zoom_range = 0.2,\n",
    "                                   horizontal_flip = True)\n",
    "testing_datagen = ImageDataGenerator(rescale =1. / 255)"
   ]
  },
  {
   "cell_type": "code",
   "execution_count": 13,
   "metadata": {
    "colab": {
     "base_uri": "https://localhost:8080/"
    },
    "executionInfo": {
     "elapsed": 23998,
     "status": "ok",
     "timestamp": 1667394449602,
     "user": {
      "displayName": "ROHIT CHAKRABORTY",
      "userId": "12728706202089118225"
     },
     "user_tz": -330
    },
    "id": "u2yroOBS-KNg",
    "outputId": "2fe7a6ec-142d-43a8-f48e-e8cede9332f8"
   },
   "outputs": [
    {
     "name": "stdout",
     "output_type": "stream",
     "text": [
      "Found 5216 images belonging to 2 classes.\n"
     ]
    }
   ],
   "source": [
    "training_set = train_datagen.flow_from_directory(r\"D:\\archive\\chest_xray\\chest_xray\\train\", \n",
    "                                                 target_size = (224, 224),\n",
    "                                                 batch_size = 32,\n",
    "                                                 class_mode = 'categorical')"
   ]
  },
  {
   "cell_type": "code",
   "execution_count": 14,
   "metadata": {
    "colab": {
     "base_uri": "https://localhost:8080/"
    },
    "executionInfo": {
     "elapsed": 2690,
     "status": "ok",
     "timestamp": 1667394452282,
     "user": {
      "displayName": "ROHIT CHAKRABORTY",
      "userId": "12728706202089118225"
     },
     "user_tz": -330
    },
    "id": "TgQqsazKrJ7z",
    "outputId": "2948d696-612a-4aa2-c924-6a1957c34dd2"
   },
   "outputs": [
    {
     "name": "stdout",
     "output_type": "stream",
     "text": [
      "Found 624 images belonging to 2 classes.\n"
     ]
    }
   ],
   "source": [
    "test_set = testing_datagen.flow_from_directory(r\"D:\\archive\\chest_xray\\chest_xray\\test\",\n",
    "                                               target_size = (224, 224),\n",
    "                                               batch_size = 32,\n",
    "                                               class_mode = 'categorical')"
   ]
  },
  {
   "cell_type": "markdown",
   "metadata": {},
   "source": [
    "# Rnning the model for epoochs"
   ]
  },
  {
   "cell_type": "code",
   "execution_count": 15,
   "metadata": {
    "colab": {
     "base_uri": "https://localhost:8080/"
    },
    "executionInfo": {
     "elapsed": 5429814,
     "status": "ok",
     "timestamp": 1667399882093,
     "user": {
      "displayName": "ROHIT CHAKRABORTY",
      "userId": "12728706202089118225"
     },
     "user_tz": -330
    },
    "id": "BDzF3RiF-MRY",
    "outputId": "421a4697-2066-447f-efb7-c42a765d0003",
    "scrolled": false
   },
   "outputs": [
    {
     "name": "stdout",
     "output_type": "stream",
     "text": [
      "Epoch 1/40\n",
      "163/163 [==============================] - 903s 6s/step - loss: 0.4979 - accuracy: 0.7429 - val_loss: 0.9333 - val_accuracy: 0.6250\n",
      "Epoch 2/40\n",
      "163/163 [==============================] - 930s 6s/step - loss: 0.4037 - accuracy: 0.7429 - val_loss: 0.9533 - val_accuracy: 0.6250\n",
      "Epoch 3/40\n",
      "163/163 [==============================] - 904s 6s/step - loss: 0.3544 - accuracy: 0.8194 - val_loss: 0.5489 - val_accuracy: 0.6955\n",
      "Epoch 4/40\n",
      "163/163 [==============================] - 901s 6s/step - loss: 0.3207 - accuracy: 0.8901 - val_loss: 0.7258 - val_accuracy: 0.5224\n",
      "Epoch 5/40\n",
      "163/163 [==============================] - 915s 6s/step - loss: 0.3064 - accuracy: 0.8938 - val_loss: 0.4858 - val_accuracy: 0.7821\n",
      "Epoch 6/40\n",
      "163/163 [==============================] - 938s 6s/step - loss: 0.2843 - accuracy: 0.9053 - val_loss: 0.7260 - val_accuracy: 0.7099\n",
      "Epoch 7/40\n",
      "163/163 [==============================] - 922s 6s/step - loss: 0.2773 - accuracy: 0.9015 - val_loss: 0.8735 - val_accuracy: 0.3814\n",
      "Epoch 8/40\n",
      "163/163 [==============================] - 899s 6s/step - loss: 0.2683 - accuracy: 0.9049 - val_loss: 0.7843 - val_accuracy: 0.4952\n",
      "Epoch 9/40\n",
      "163/163 [==============================] - 892s 5s/step - loss: 0.2568 - accuracy: 0.9097 - val_loss: 0.7683 - val_accuracy: 0.5016\n",
      "Epoch 10/40\n",
      "163/163 [==============================] - 922s 6s/step - loss: 0.2377 - accuracy: 0.9224 - val_loss: 0.9881 - val_accuracy: 0.3766\n",
      "Epoch 11/40\n",
      "163/163 [==============================] - 919s 6s/step - loss: 0.2305 - accuracy: 0.9229 - val_loss: 0.5554 - val_accuracy: 0.7051\n",
      "Epoch 12/40\n",
      "163/163 [==============================] - 915s 6s/step - loss: 0.2183 - accuracy: 0.9277 - val_loss: 1.0303 - val_accuracy: 0.3974\n",
      "Epoch 13/40\n",
      "163/163 [==============================] - 909s 6s/step - loss: 0.2169 - accuracy: 0.9254 - val_loss: 1.0911 - val_accuracy: 0.3782\n",
      "Epoch 14/40\n",
      "163/163 [==============================] - 932s 6s/step - loss: 0.2056 - accuracy: 0.9317 - val_loss: 1.0611 - val_accuracy: 0.6346\n",
      "Epoch 15/40\n",
      "163/163 [==============================] - 957s 6s/step - loss: 0.2031 - accuracy: 0.9302 - val_loss: 1.1486 - val_accuracy: 0.3782\n",
      "Epoch 16/40\n",
      "163/163 [==============================] - 917s 6s/step - loss: 0.1921 - accuracy: 0.9340 - val_loss: 1.1345 - val_accuracy: 0.4038\n",
      "Epoch 17/40\n",
      "163/163 [==============================] - 932s 6s/step - loss: 0.1843 - accuracy: 0.9394 - val_loss: 1.2235 - val_accuracy: 0.3766\n",
      "Epoch 18/40\n",
      "163/163 [==============================] - 914s 6s/step - loss: 0.1760 - accuracy: 0.9438 - val_loss: 0.4581 - val_accuracy: 0.8365\n",
      "Epoch 19/40\n",
      "163/163 [==============================] - 915s 6s/step - loss: 0.1741 - accuracy: 0.9434 - val_loss: 1.1000 - val_accuracy: 0.6394\n",
      "Epoch 20/40\n",
      "163/163 [==============================] - 919s 6s/step - loss: 0.1666 - accuracy: 0.9427 - val_loss: 0.9814 - val_accuracy: 0.5080\n",
      "Epoch 21/40\n",
      "163/163 [==============================] - 913s 6s/step - loss: 0.1654 - accuracy: 0.9444 - val_loss: 1.2030 - val_accuracy: 0.4231\n",
      "Epoch 22/40\n",
      "163/163 [==============================] - 898s 6s/step - loss: 0.1645 - accuracy: 0.9463 - val_loss: 1.2222 - val_accuracy: 0.4359\n",
      "Epoch 23/40\n",
      "163/163 [==============================] - 887s 5s/step - loss: 0.1628 - accuracy: 0.9457 - val_loss: 1.2097 - val_accuracy: 0.4471\n",
      "Epoch 24/40\n",
      "163/163 [==============================] - 885s 5s/step - loss: 0.1557 - accuracy: 0.9484 - val_loss: 0.7451 - val_accuracy: 0.7019\n",
      "Epoch 25/40\n",
      "163/163 [==============================] - 885s 5s/step - loss: 0.1519 - accuracy: 0.9496 - val_loss: 0.2821 - val_accuracy: 0.9135\n",
      "Epoch 26/40\n",
      "163/163 [==============================] - 885s 5s/step - loss: 0.1507 - accuracy: 0.9515 - val_loss: 0.7101 - val_accuracy: 0.7260\n",
      "Epoch 27/40\n",
      "163/163 [==============================] - 884s 5s/step - loss: 0.1451 - accuracy: 0.9569 - val_loss: 1.1024 - val_accuracy: 0.6522\n",
      "Epoch 28/40\n",
      "163/163 [==============================] - 884s 5s/step - loss: 0.1423 - accuracy: 0.9551 - val_loss: 1.2699 - val_accuracy: 0.4615\n",
      "Epoch 29/40\n",
      "163/163 [==============================] - 884s 5s/step - loss: 0.1348 - accuracy: 0.9555 - val_loss: 0.8384 - val_accuracy: 0.7115\n",
      "Epoch 30/40\n",
      "163/163 [==============================] - 884s 5s/step - loss: 0.1378 - accuracy: 0.9536 - val_loss: 0.5558 - val_accuracy: 0.7452\n",
      "Epoch 31/40\n",
      "163/163 [==============================] - 884s 5s/step - loss: 0.1346 - accuracy: 0.9572 - val_loss: 1.0361 - val_accuracy: 0.6635\n",
      "Epoch 32/40\n",
      "163/163 [==============================] - 874s 5s/step - loss: 0.1303 - accuracy: 0.9572 - val_loss: 0.9956 - val_accuracy: 0.5817\n",
      "Epoch 33/40\n",
      "163/163 [==============================] - 871s 5s/step - loss: 0.1350 - accuracy: 0.9548 - val_loss: 0.3195 - val_accuracy: 0.8878\n",
      "Epoch 34/40\n",
      "163/163 [==============================] - 873s 5s/step - loss: 0.1191 - accuracy: 0.9609 - val_loss: 0.4173 - val_accuracy: 0.8654\n",
      "Epoch 35/40\n",
      "163/163 [==============================] - 871s 5s/step - loss: 0.1214 - accuracy: 0.9605 - val_loss: 1.1876 - val_accuracy: 0.5032\n",
      "Epoch 36/40\n",
      "163/163 [==============================] - 870s 5s/step - loss: 0.1214 - accuracy: 0.9620 - val_loss: 0.5719 - val_accuracy: 0.7965\n",
      "Epoch 37/40\n",
      "163/163 [==============================] - 869s 5s/step - loss: 0.1232 - accuracy: 0.9595 - val_loss: 0.3429 - val_accuracy: 0.8606\n",
      "Epoch 38/40\n",
      "163/163 [==============================] - 869s 5s/step - loss: 0.1169 - accuracy: 0.9615 - val_loss: 0.5851 - val_accuracy: 0.7885\n",
      "Epoch 39/40\n",
      "163/163 [==============================] - 869s 5s/step - loss: 0.1095 - accuracy: 0.9670 - val_loss: 0.4642 - val_accuracy: 0.8109\n",
      "Epoch 40/40\n",
      "163/163 [==============================] - 871s 5s/step - loss: 0.1060 - accuracy: 0.9641 - val_loss: 1.2851 - val_accuracy: 0.6410\n"
     ]
    }
   ],
   "source": [
    "fitted_model = final_model.fit( \n",
    "  training_set,\n",
    "  validation_data=test_set,\n",
    "  epochs=40,\n",
    "  steps_per_epoch=len(training_set),\n",
    "  validation_steps=len(test_set)    \n",
    ")\n",
    "\n",
    "\n",
    "\n"
   ]
  },
  {
   "cell_type": "code",
   "execution_count": 16,
   "metadata": {},
   "outputs": [
    {
     "data": {
      "image/png": "[encoded data removed]",
      "text/plain": [
       "<Figure size 640x480 with 1 Axes>"
      ]
     },
     "metadata": {},
     "output_type": "display_data"
    },
    {
     "data": {
      "image/png": "[encoded data removed]",
      "text/plain": [
       "<Figure size 640x480 with 1 Axes>"
      ]
     },
     "metadata": {},
     "output_type": "display_data"
    }
   ],
   "source": [
    "plot.plot(fitted_model.history['loss'], label='training loss') #Plotting the accuracies\n",
    "plot.plot(fitted_model.history['val_loss'], label='validation loss')\n",
    "plot.legend()\n",
    "plot.show()\n",
    "\n",
    "plot.plot(fitted_model.history['accuracy'], label='training accuracy')\n",
    "plot.plot(fitted_model.history['val_accuracy'], label='validation accuracy')\n",
    "plot.legend()\n",
    "plot.show()"
   ]
  },
  {
   "cell_type": "code",
   "execution_count": 17,
   "metadata": {
    "id": "YbfqhkYY-O3I"
   },
   "outputs": [],
   "source": [
    "final_model.save('resnet50.h5')"
   ]
  },
  {
   "cell_type": "code",
   "execution_count": 18,
   "metadata": {
    "colab": {
     "base_uri": "https://localhost:8080/"
    },
    "executionInfo": {
     "elapsed": 1247,
     "status": "ok",
     "timestamp": 1667399884235,
     "user": {
      "displayName": "ROHIT CHAKRABORTY",
      "userId": "12728706202089118225"
     },
     "user_tz": -330
    },
    "id": "J1vCMZ4A-RtA",
    "outputId": "716cb0fe-e0d1-45cc-e565-4fb4ba01369e"
   },
   "outputs": [
    {
     "name": "stdout",
     "output_type": "stream",
     "text": [
      "1/1 [==============================] - 0s 369ms/step\n",
      "Person is affected with Pneumonia.\n",
      "Predictions: [[0. 1.]]\n"
     ]
    }
   ],
   "source": [
    "model=load_model('resnet50.h5') #Loading our model\n",
    "img=image.load_img(r\"D:\\archive\\chest_xray\\chest_xray\\train\\PNEUMONIA\\person1_bacteria_1.jpeg\",target_size=(224,224))\n",
    "imagee=image.img_to_array(img) #Converting the X-Ray into pixels\n",
    "imagee=np.expand_dims(imagee, axis=0)\n",
    "img_data=preprocess_input(imagee)\n",
    "prediction=model.predict(img_data)\n",
    "if prediction[0][0]>prediction[0][1]:  #Printing the prediction of model.\n",
    "    print('Person is safe.')\n",
    "else:\n",
    "    print('Person is affected with Pneumonia.')\n",
    "print(f'Predictions: {prediction}')"
   ]
  },
  {
   "cell_type": "code",
   "execution_count": 19,
   "metadata": {},
   "outputs": [
    {
     "name": "stdout",
     "output_type": "stream",
     "text": [
      "Found 624 images belonging to 2 classes.\n",
      "20/20 [==============================] - 45s 2s/step\n"
     ]
    }
   ],
   "source": [
    "test_generator = ImageDataGenerator()\n",
    "test_data_generator = test_generator.flow_from_directory(\n",
    "   r\"D:\\archive\\chest_xray\\chest_xray\\test\", \n",
    "     target_size=(224,224),\n",
    "    batch_size=32,\n",
    "    shuffle=False)\n",
    "test_steps_per_epoch = np.math.ceil(test_data_generator.samples / test_data_generator.batch_size)\n",
    "\n",
    "predictions = model.predict(test_data_generator, steps=test_steps_per_epoch)\n",
    "# Get most likely class\n",
    "predicted_classes = np.argmax(predictions, axis=1)"
   ]
  },
  {
   "cell_type": "code",
   "execution_count": 20,
   "metadata": {
    "id": "3NyeUAIPaPPo"
   },
   "outputs": [],
   "source": [
    "true_classes = test_data_generator.classes\n",
    "class_labels = list(test_data_generator.class_indices.keys())   "
   ]
  },
  {
   "cell_type": "code",
   "execution_count": 23,
   "metadata": {},
   "outputs": [
    {
     "name": "stdout",
     "output_type": "stream",
     "text": [
      "              precision    recall  f1-score   support\n",
      "\n",
      "      NORMAL       0.94      0.13      0.23       234\n",
      "   PNEUMONIA       0.66      0.99      0.79       390\n",
      "\n",
      "    accuracy                           0.67       624\n",
      "   macro avg       0.80      0.56      0.51       624\n",
      "weighted avg       0.76      0.67      0.58       624\n",
      "\n"
     ]
    }
   ],
   "source": [
    "report = metrics.classification_report(true_classes, predicted_classes, target_names=class_labels)\n",
    "print(report)"
   ]
  },
  {
   "cell_type": "code",
   "execution_count": null,
   "metadata": {},
   "outputs": [],
   "source": []
  }
 ],
 "metadata": {
  "accelerator": "GPU",
  "colab": {
   "authorship_tag": "ABX9TyPKYJYXwcfDEpYpVAMrx2GF",
   "collapsed_sections": [],
   "mount_file_id": "1TmQXlYPI3jc02xN2MlG2fsuRGDnZhyhS",
   "provenance": []
  },
  "gpuClass": "standard",
  "kernelspec": {
   "display_name": "TensorFlowGPU",
   "language": "python",
   "name": "tf_gpu"
  },
  "language_info": {
   "codemirror_mode": {
    "name": "ipython",
    "version": 3
   },
   "file_extension": ".py",
   "mimetype": "text/x-python",
   "name": "python",
   "nbconvert_exporter": "python",
   "pygments_lexer": "ipython3",
   "version": "3.8.0"
  }
 },
 "nbformat": 4,
 "nbformat_minor": 1
}
